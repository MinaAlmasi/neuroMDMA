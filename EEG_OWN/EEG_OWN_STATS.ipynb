{
 "cells": [
  {
   "cell_type": "code",
   "execution_count": 140,
   "id": "0dd04b3f-669e-4136-98c2-61dfbfa2f440",
   "metadata": {
    "execution": {
     "iopub.execute_input": "2022-04-17T13:19:16.582475Z",
     "iopub.status.busy": "2022-04-17T13:19:16.581932Z",
     "iopub.status.idle": "2022-04-17T13:19:28.188190Z",
     "shell.execute_reply": "2022-04-17T13:19:28.187340Z",
     "shell.execute_reply.started": "2022-04-17T13:19:16.582418Z"
    },
    "tags": []
   },
   "outputs": [
    {
     "name": "stdout",
     "output_type": "stream",
     "text": [
      "Requirement already satisfied: mne in /opt/conda/lib/python3.9/site-packages (1.0.2)\n",
      "Requirement already satisfied: packaging in /opt/conda/lib/python3.9/site-packages (from mne) (21.3)\n",
      "Requirement already satisfied: jinja2 in /opt/conda/lib/python3.9/site-packages (from mne) (3.0.3)\n",
      "Requirement already satisfied: matplotlib in /opt/conda/lib/python3.9/site-packages (from mne) (3.5.1)\n",
      "Requirement already satisfied: decorator in /opt/conda/lib/python3.9/site-packages (from mne) (5.1.1)\n",
      "Requirement already satisfied: tqdm in /opt/conda/lib/python3.9/site-packages (from mne) (4.63.1)\n",
      "Requirement already satisfied: pooch>=1.5 in /opt/conda/lib/python3.9/site-packages (from mne) (1.6.0)\n",
      "Requirement already satisfied: numpy>=1.15.4 in /opt/conda/lib/python3.9/site-packages (from mne) (1.22.3)\n",
      "Requirement already satisfied: scipy>=1.1.0 in /opt/conda/lib/python3.9/site-packages (from mne) (1.8.0)\n",
      "Requirement already satisfied: requests>=2.19.0 in /opt/conda/lib/python3.9/site-packages (from pooch>=1.5->mne) (2.27.1)\n",
      "Requirement already satisfied: appdirs>=1.3.0 in /opt/conda/lib/python3.9/site-packages (from pooch>=1.5->mne) (1.4.4)\n",
      "Requirement already satisfied: pyparsing!=3.0.5,>=2.0.2 in /opt/conda/lib/python3.9/site-packages (from packaging->mne) (3.0.7)\n",
      "Requirement already satisfied: MarkupSafe>=2.0 in /opt/conda/lib/python3.9/site-packages (from jinja2->mne) (2.1.1)\n",
      "Requirement already satisfied: cycler>=0.10 in /opt/conda/lib/python3.9/site-packages (from matplotlib->mne) (0.11.0)\n",
      "Requirement already satisfied: pillow>=6.2.0 in /opt/conda/lib/python3.9/site-packages (from matplotlib->mne) (9.0.1)\n",
      "Requirement already satisfied: fonttools>=4.22.0 in /opt/conda/lib/python3.9/site-packages (from matplotlib->mne) (4.31.2)\n",
      "Requirement already satisfied: kiwisolver>=1.0.1 in /opt/conda/lib/python3.9/site-packages (from matplotlib->mne) (1.4.2)\n",
      "Requirement already satisfied: python-dateutil>=2.7 in /opt/conda/lib/python3.9/site-packages (from matplotlib->mne) (2.8.2)\n",
      "Requirement already satisfied: six>=1.5 in /opt/conda/lib/python3.9/site-packages (from python-dateutil>=2.7->matplotlib->mne) (1.16.0)\n",
      "Requirement already satisfied: idna<4,>=2.5 in /opt/conda/lib/python3.9/site-packages (from requests>=2.19.0->pooch>=1.5->mne) (3.3)\n",
      "Requirement already satisfied: charset-normalizer~=2.0.0 in /opt/conda/lib/python3.9/site-packages (from requests>=2.19.0->pooch>=1.5->mne) (2.0.12)\n",
      "Requirement already satisfied: urllib3<1.27,>=1.21.1 in /opt/conda/lib/python3.9/site-packages (from requests>=2.19.0->pooch>=1.5->mne) (1.26.9)\n",
      "Requirement already satisfied: certifi>=2017.4.17 in /opt/conda/lib/python3.9/site-packages (from requests>=2.19.0->pooch>=1.5->mne) (2021.10.8)\n",
      "Collecting statsmodels\n",
      "  Downloading statsmodels-0.13.2-cp39-cp39-manylinux_2_17_x86_64.manylinux2014_x86_64.whl (9.9 MB)\n",
      "\u001b[2K     \u001b[90m━━━━━━━━━━━━━━━━━━━━━━━━━━━━━━━━━━━━━━━━\u001b[0m \u001b[32m9.9/9.9 MB\u001b[0m \u001b[31m37.3 MB/s\u001b[0m eta \u001b[36m0:00:00\u001b[0m00:01\u001b[0m00:01\u001b[0m\n",
      "\u001b[?25hRequirement already satisfied: numpy>=1.17 in /opt/conda/lib/python3.9/site-packages (from statsmodels) (1.22.3)\n",
      "Requirement already satisfied: pandas>=0.25 in /opt/conda/lib/python3.9/site-packages (from statsmodels) (1.4.2)\n",
      "Requirement already satisfied: packaging>=21.3 in /opt/conda/lib/python3.9/site-packages (from statsmodels) (21.3)\n",
      "Requirement already satisfied: scipy>=1.3 in /opt/conda/lib/python3.9/site-packages (from statsmodels) (1.8.0)\n",
      "Collecting patsy>=0.5.2\n",
      "  Downloading patsy-0.5.2-py2.py3-none-any.whl (233 kB)\n",
      "\u001b[2K     \u001b[90m━━━━━━━━━━━━━━━━━━━━━━━━━━━━━━━━━━━━━━━\u001b[0m \u001b[32m233.7/233.7 KB\u001b[0m \u001b[31m5.8 MB/s\u001b[0m eta \u001b[36m0:00:00\u001b[0ma \u001b[36m0:00:01\u001b[0m\n",
      "\u001b[?25hRequirement already satisfied: pyparsing!=3.0.5,>=2.0.2 in /opt/conda/lib/python3.9/site-packages (from packaging>=21.3->statsmodels) (3.0.7)\n",
      "Requirement already satisfied: python-dateutil>=2.8.1 in /opt/conda/lib/python3.9/site-packages (from pandas>=0.25->statsmodels) (2.8.2)\n",
      "Requirement already satisfied: pytz>=2020.1 in /opt/conda/lib/python3.9/site-packages (from pandas>=0.25->statsmodels) (2022.1)\n",
      "Requirement already satisfied: six in /opt/conda/lib/python3.9/site-packages (from patsy>=0.5.2->statsmodels) (1.16.0)\n",
      "Installing collected packages: patsy, statsmodels\n",
      "Successfully installed patsy-0.5.2 statsmodels-0.13.2\n"
     ]
    }
   ],
   "source": [
    "# importing modules\n",
    "import os\n",
    "import pip\n",
    "!python -m pip install mne\n",
    "os.system('python -m pip install scikit-learn')\n",
    "import numpy as np\n",
    "import pandas as pd\n",
    "import mne\n",
    "from scipy import stats as st\n",
    "import statistics as stats\n",
    "from itertools import combinations\n",
    "\n",
    "!python -m pip install statsmodels\n",
    "from statsmodels.stats.multitest import multipletests as multi"
   ]
  },
  {
   "cell_type": "code",
   "execution_count": 91,
   "id": "9a4e6550-4f7b-4253-b643-674f474aa54a",
   "metadata": {
    "execution": {
     "iopub.execute_input": "2022-04-17T12:48:42.479509Z",
     "iopub.status.busy": "2022-04-17T12:48:42.476444Z",
     "iopub.status.idle": "2022-04-17T12:48:42.648597Z",
     "shell.execute_reply": "2022-04-17T12:48:42.648001Z",
     "shell.execute_reply.started": "2022-04-17T12:48:42.479453Z"
    }
   },
   "outputs": [
    {
     "name": "stdout",
     "output_type": "stream",
     "text": [
      "Reading /work/group5_epochs-epo.fif ...\n",
      "    Found the data of interest:\n",
      "        t =    -100.00 ...     696.00 ms\n",
      "        0 CTF compensation matrices available\n",
      "0 bad epochs dropped\n",
      "Not setting metadata\n",
      "285 matching events found\n",
      "No baseline correction applied\n",
      "0 projection items activated\n"
     ]
    }
   ],
   "source": [
    "all_epochs = mne.read_epochs('group5_epochs-epo.fif')"
   ]
  },
  {
   "cell_type": "code",
   "execution_count": 92,
   "id": "9f87976b-9e00-40f0-abe8-05f4a1754265",
   "metadata": {
    "execution": {
     "iopub.execute_input": "2022-04-17T12:48:42.649688Z",
     "iopub.status.busy": "2022-04-17T12:48:42.649540Z",
     "iopub.status.idle": "2022-04-17T12:48:42.659092Z",
     "shell.execute_reply": "2022-04-17T12:48:42.658118Z",
     "shell.execute_reply.started": "2022-04-17T12:48:42.649669Z"
    },
    "tags": []
   },
   "outputs": [],
   "source": [
    "word_epochs = all_epochs['Word']\n",
    "decision_epochs = all_epochs['Decision']"
   ]
  },
  {
   "cell_type": "code",
   "execution_count": 93,
   "id": "57db026a-52a4-4422-be15-d44abe8e2a4c",
   "metadata": {
    "execution": {
     "iopub.execute_input": "2022-04-17T12:48:42.660058Z",
     "iopub.status.busy": "2022-04-17T12:48:42.659918Z",
     "iopub.status.idle": "2022-04-17T12:48:42.681714Z",
     "shell.execute_reply": "2022-04-17T12:48:42.681161Z",
     "shell.execute_reply.started": "2022-04-17T12:48:42.660040Z"
    }
   },
   "outputs": [],
   "source": [
    "# Creating different epochs for the conditions\n",
    "word_real_epochs = all_epochs['Word/Real']\n",
    "word_cs_epochs = all_epochs['Word/CenterShuffled']\n",
    "word_fs_epochs = all_epochs['Word/FullyShuffled']\n",
    "word_foreign_epochs = all_epochs['Word/Foreign']"
   ]
  },
  {
   "cell_type": "markdown",
   "id": "9e77e361-f1bf-4040-b9fd-13e44f26a03c",
   "metadata": {},
   "source": [
    "## Cluster-based Permutation Testing\n",
    "The null hypothesis (H0) is that the data in the two conditions comes from the same probability distribution (i.e. they are interchangeable). In order to test this we scramble the data in the conditions n amount of times to get an idea of what distributions of cluster sizes we would expect if there is no difference between conditions. Based on this distribution we can establish how large a cluster should be to cross our significance level (e.g. 0.05) and then compare this to the clusters based on our conditions. If the highest value from our clusters is larger, this suggests that the data in the conditions are not interchangeable (i.e. the difference between them is significant)."
   ]
  },
  {
   "cell_type": "code",
   "execution_count": 94,
   "id": "57ca411f-8fe1-4e2e-9257-459c906829b9",
   "metadata": {
    "execution": {
     "iopub.execute_input": "2022-04-17T12:48:42.683457Z",
     "iopub.status.busy": "2022-04-17T12:48:42.683323Z",
     "iopub.status.idle": "2022-04-17T12:48:42.697854Z",
     "shell.execute_reply": "2022-04-17T12:48:42.697331Z",
     "shell.execute_reply.started": "2022-04-17T12:48:42.683441Z"
    }
   },
   "outputs": [
    {
     "name": "stdout",
     "output_type": "stream",
     "text": [
      "(31, 28, 200)\n",
      "(31, 200, 28)\n"
     ]
    }
   ],
   "source": [
    "# getting the data from our conditions\n",
    "X = [all_epochs[k].get_data() for k in ['Word/Real', 'Word/CenterShuffled', 'Word/FullyShuffled', 'Word/Foreign']]\n",
    "print(X[0].shape)\n",
    "\n",
    "# transposing\n",
    "X = [np.transpose(x, (0, 2, 1)) for x in X]\n",
    "print(X[0].shape)"
   ]
  },
  {
   "cell_type": "code",
   "execution_count": 95,
   "id": "47641ad9-9a39-4462-bbec-44422aa0bdac",
   "metadata": {
    "execution": {
     "iopub.execute_input": "2022-04-17T12:48:42.698593Z",
     "iopub.status.busy": "2022-04-17T12:48:42.698472Z",
     "iopub.status.idle": "2022-04-17T12:48:42.923843Z",
     "shell.execute_reply": "2022-04-17T12:48:42.923306Z",
     "shell.execute_reply.started": "2022-04-17T12:48:42.698578Z"
    },
    "tags": []
   },
   "outputs": [
    {
     "name": "stdout",
     "output_type": "stream",
     "text": [
      "Could not find a adjacency matrix for the data. Computing adjacency based on Delaunay triangulations.\n",
      "-- number of adjacent vertices : 28\n"
     ]
    },
    {
     "data": {
      "text/plain": [
       "Text(0.5, 1.0, 'Between-sensor adjacency')"
      ]
     },
     "execution_count": 95,
     "metadata": {},
     "output_type": "execute_result"
    },
    {
     "data": {
      "image/png": "[encoded data removed]",
      "text/plain": [
       "<Figure size 432x288 with 1 Axes>"
      ]
     },
     "metadata": {
      "needs_background": "light"
     },
     "output_type": "display_data"
    }
   ],
   "source": [
    "import matplotlib.pyplot as plt\n",
    "\n",
    "# finding channel adjacency: informs us which channels are next to each other (for co-localisation)\n",
    "adjacency, ch_names = mne.channels.find_ch_adjacency(word_epochs.info, ch_type='eeg')\n",
    "\n",
    "# plotting between-sensor adjacency\n",
    "plt.imshow(adjacency.toarray(), cmap='gray',\n",
    "           interpolation='nearest')\n",
    "plt.xlabel('{} EEG'.format(len(ch_names)))\n",
    "plt.ylabel('{} EEG'.format(len(ch_names)))\n",
    "plt.title('Between-sensor adjacency')"
   ]
  },
  {
   "cell_type": "code",
   "execution_count": 96,
   "id": "65e1d763-eba0-409c-9aaa-5f0dc39c3105",
   "metadata": {
    "execution": {
     "iopub.execute_input": "2022-04-17T12:48:42.924620Z",
     "iopub.status.busy": "2022-04-17T12:48:42.924491Z",
     "iopub.status.idle": "2022-04-17T12:48:47.309778Z",
     "shell.execute_reply": "2022-04-17T12:48:47.308500Z",
     "shell.execute_reply.started": "2022-04-17T12:48:42.924604Z"
    }
   },
   "outputs": [
    {
     "name": "stdout",
     "output_type": "stream",
     "text": [
      "Using a threshold of 2.680168\n",
      "stat_fun(H1): min=0.009550 max=16.185654\n",
      "Running initial clustering\n",
      "Found 39 clusters\n",
      "Permuting 999 times...\n"
     ]
    },
    {
     "name": "stderr",
     "output_type": "stream",
     "text": [
      "/tmp/ipykernel_392/1839925267.py:5: RuntimeWarning: Ignoring argument \"tail\", performing 1-tailed F-test\n",
      "  cluster_stats = mne.stats.spatio_temporal_cluster_test(X, n_permutations=1000, tail=0,\n"
     ]
    },
    {
     "data": {
      "application/vnd.jupyter.widget-view+json": {
       "model_id": "21576fb141ac4f9ebcaa94972fc87c09",
       "version_major": 2,
       "version_minor": 0
      },
      "text/plain": [
       "  0%|          |  : 0/999 [00:00<?,       ?it/s]"
      ]
     },
     "metadata": {},
     "output_type": "display_data"
    },
    {
     "name": "stdout",
     "output_type": "stream",
     "text": [
      "Computing cluster p-values\n",
      "Done.\n"
     ]
    }
   ],
   "source": [
    "# set family-wise p-value\n",
    "p_accept = 0.05\n",
    "\n",
    "# running the permutation test with 2000 permutations and a random seed of 4\n",
    "cluster_stats = mne.stats.spatio_temporal_cluster_test(X, n_permutations=1000, tail=0,\n",
    "                                             n_jobs=-1, buffer_size=None, adjacency=adjacency, seed=4)\n",
    "\n",
    "# selecting clusters with significant p-values\n",
    "T_obs, clusters, p_values, _ = cluster_stats\n",
    "good_cluster_inds = np.where(p_values < p_accept)[0]"
   ]
  },
  {
   "cell_type": "code",
   "execution_count": 97,
   "id": "4e3107f5-3ba3-486c-b682-ce730dec5a51",
   "metadata": {
    "execution": {
     "iopub.execute_input": "2022-04-17T12:48:47.311879Z",
     "iopub.status.busy": "2022-04-17T12:48:47.311641Z",
     "iopub.status.idle": "2022-04-17T12:48:47.318304Z",
     "shell.execute_reply": "2022-04-17T12:48:47.317686Z",
     "shell.execute_reply.started": "2022-04-17T12:48:47.311850Z"
    }
   },
   "outputs": [
    {
     "name": "stdout",
     "output_type": "stream",
     "text": [
      "[1.    1.    1.    0.999 0.996 1.    1.    1.    1.    1.    0.904 1.\n",
      " 1.    1.    0.97  1.    1.    1.    1.    1.    1.    0.998 0.874 1.\n",
      " 0.228 0.784 1.    1.    0.001 1.    1.    0.822 0.781 1.    0.997 1.\n",
      " 1.    1.    0.999]\n",
      "[28]\n"
     ]
    }
   ],
   "source": [
    "print(p_values)\n",
    "print(good_cluster_inds)"
   ]
  },
  {
   "cell_type": "code",
   "execution_count": 98,
   "id": "c1ddaed8-5991-44a9-bfca-772c4224eba7",
   "metadata": {
    "execution": {
     "iopub.execute_input": "2022-04-17T12:48:47.320153Z",
     "iopub.status.busy": "2022-04-17T12:48:47.319996Z",
     "iopub.status.idle": "2022-04-17T12:48:47.893507Z",
     "shell.execute_reply": "2022-04-17T12:48:47.892915Z",
     "shell.execute_reply.started": "2022-04-17T12:48:47.320128Z"
    },
    "tags": []
   },
   "outputs": [
    {
     "name": "stdout",
     "output_type": "stream",
     "text": [
      "combining channels using \"gfp\"\n",
      "combining channels using \"gfp\"\n",
      "combining channels using \"gfp\"\n",
      "combining channels using \"gfp\"\n"
     ]
    },
    {
     "data": {
      "image/png": "[encoded data removed]",
      "text/plain": [
       "<Figure size 720x216 with 3 Axes>"
      ]
     },
     "metadata": {
      "needs_background": "light"
     },
     "output_type": "display_data"
    }
   ],
   "source": [
    "from mpl_toolkits.axes_grid1 import make_axes_locatable\n",
    "\n",
    "# configuration of variables for visualisation\n",
    "colors = {\"Word/Real\": \"crimson\", \"Word/CenterShuffled\": 'steelblue', \"Word/FullyShuffled\": \"#005f6a\", \"Word/Foreign\": \"#FF1493\"}\n",
    "\n",
    "# organising data for plotting\n",
    "evokeds = {cond: word_epochs[cond].average() for cond in [\"Word/Real\", \"Word/CenterShuffled\", \"Word/FullyShuffled\", \"Word/Foreign\"]} \n",
    "\n",
    "# looping over clusters\n",
    "for i_clu, clu_idx in enumerate(good_cluster_inds):\n",
    "    # unpacking cluster information\n",
    "    time_inds, space_inds = np.squeeze(clusters[clu_idx])\n",
    "    ch_inds = np.unique(space_inds)\n",
    "    time_inds = np.unique(time_inds)\n",
    "\n",
    "    # topography for F stat\n",
    "    f_map = T_obs[time_inds, ...].mean(axis=0)\n",
    "\n",
    "    # getting signals at the sensors contributing to the cluster\n",
    "    sig_times = word_epochs.times[time_inds]\n",
    "\n",
    "    # creating spatial mask\n",
    "    mask = np.zeros((f_map.shape[0], 1), dtype=bool)\n",
    "    mask[ch_inds, :] = True\n",
    "\n",
    "    # initialising the figure\n",
    "    fig, ax_topo = plt.subplots(1, 1, figsize=(10, 3))\n",
    "\n",
    "    # plotting average test statistic and mark significant sensors\n",
    "    f_evoked = mne.EvokedArray(f_map[:, np.newaxis], word_epochs.info, tmin=0)\n",
    "    f_evoked.plot_topomap(times=0, mask=mask, axes=ax_topo, cmap='Reds',\n",
    "                          vmin=np.min, vmax=np.max, show=False,\n",
    "                          colorbar=False, mask_params=dict(markersize=10))\n",
    "    image = ax_topo.images[0]\n",
    "\n",
    "    # creating additional axes (for ERF and colorbar)\n",
    "    divider = make_axes_locatable(ax_topo)\n",
    "\n",
    "    # adding axes for colourbar\n",
    "    ax_colorbar = divider.append_axes('right', size='5%', pad=0.05)\n",
    "    plt.colorbar(image, cax=ax_colorbar)\n",
    "    ax_topo.set_xlabel(\n",
    "        'Averaged F-map ({:0.3f} - {:0.3f} s)'.format(*sig_times[[0, -1]]))\n",
    "\n",
    "    # adding new axis for time courses and plot time courses\n",
    "    ax_signals = divider.append_axes('right', size='300%', pad=1.2)\n",
    "    title = 'Cluster #{0}, {1} sensor'.format(i_clu + 1, len(ch_inds))\n",
    "    if len(ch_inds) > 1:\n",
    "        title += \"s (mean)\"\n",
    "    mne.viz.plot_compare_evokeds(evokeds, title=title, picks=ch_inds, axes=ax_signals,\n",
    "                         colors=colors, show=False,\n",
    "                         split_legend=True, truncate_yaxis='auto')\n",
    "\n",
    "    # plotting temporal cluster extent\n",
    "    ymin, ymax = ax_signals.get_ylim()\n",
    "    ax_signals.fill_betweenx((ymin, ymax), sig_times[0], sig_times[-1],\n",
    "                             color='orange', alpha=0.3)\n",
    "\n",
    "    # clean-up\n",
    "    mne.viz.tight_layout(fig=fig)\n",
    "    fig.subplots_adjust(bottom=.05)\n",
    "    plt.show()"
   ]
  },
  {
   "cell_type": "markdown",
   "id": "2ea8a447-f8f2-44bc-929a-fab74bbd6ade",
   "metadata": {},
   "source": [
    "This is the only cluster in which we see a significant difference between any two of the conditions. The statistically significant diffference occurs in the yellow window. This cluster is based on 27 (!!!) of the 28 sensors."
   ]
  },
  {
   "cell_type": "markdown",
   "id": "45a190c8-017e-419c-afd3-08b9d5c37ec4",
   "metadata": {
    "execution": {
     "iopub.execute_input": "2022-04-17T11:34:02.116389Z",
     "iopub.status.busy": "2022-04-17T11:34:02.115860Z",
     "iopub.status.idle": "2022-04-17T11:34:02.129388Z",
     "shell.execute_reply": "2022-04-17T11:34:02.128094Z",
     "shell.execute_reply.started": "2022-04-17T11:34:02.116332Z"
    },
    "tags": []
   },
   "source": [
    "## Windowed mean\n",
    "One of the simplest way in which we can determine whether the signal in our two conditions are statistically significant is by:\n",
    "\n",
    "1) Segmenting our data using only certain channels in a specific time window. Keep in mind that which time window and channels should be established a priori, for instance according to the literature. \n",
    "2) Taking the mean of that window across channels and and samples.\n",
    "3) Running statistical tests on the windowed means from the two conditions.\n",
    "\n",
    "In an experiment with multiple participants we would also average over trials from individual participants, in order to only have one data point per participant (and thereby avoid multiple comparisons). However, since we have one participant, we can keep one dimension of the individual data, i.e. the trials.\n",
    "\n",
    "### T-test\n",
    "We can now do a t-test on the trials from the two conditions, to establish whether the means of the two groups are statistically significant.\n",
    "\n",
    "We can use the get_data() function to get the numerical values of the signal (in microvolts) for the t-test. tmin and tmax are used to define the size of the window, and the picks are the channels that we expect to see an effect in."
   ]
  },
  {
   "cell_type": "markdown",
   "id": "7df0aaa0-91b3-489d-9654-c781f3c0c32d",
   "metadata": {},
   "source": [
    "#### Create ANOVA Test Function"
   ]
  },
  {
   "cell_type": "code",
   "execution_count": 99,
   "id": "72f72734-8dc3-4b27-929c-91412a5112fb",
   "metadata": {
    "execution": {
     "iopub.execute_input": "2022-04-17T12:48:47.894370Z",
     "iopub.status.busy": "2022-04-17T12:48:47.894236Z",
     "iopub.status.idle": "2022-04-17T12:48:47.899305Z",
     "shell.execute_reply": "2022-04-17T12:48:47.898634Z",
     "shell.execute_reply.started": "2022-04-17T12:48:47.894353Z"
    },
    "tags": []
   },
   "outputs": [],
   "source": [
    "def Anova_Epochs(Epoch_Condition, tmin, tmax, channels):\n",
    "    n_conditions = range(len(Epoch_Condition))\n",
    "    data = []\n",
    "    for i in n_conditions:\n",
    "        data.append(Epoch_Condition[i].get_data(picks=channels, tmin=tmin, tmax=tmax))\n",
    "    \n",
    "    means = []\n",
    "    for i in n_conditions:\n",
    "        mean_temp = np.mean(data[i], axis=2)\n",
    "        means.append(np.mean(mean_temp, axis=1))\n",
    "    \n",
    "    return st.f_oneway(*means)        "
   ]
  },
  {
   "cell_type": "code",
   "execution_count": 100,
   "id": "032a3f63-b633-4642-997f-8d3575512e14",
   "metadata": {
    "execution": {
     "iopub.execute_input": "2022-04-17T12:48:47.900016Z",
     "iopub.status.busy": "2022-04-17T12:48:47.899895Z",
     "iopub.status.idle": "2022-04-17T12:48:47.935586Z",
     "shell.execute_reply": "2022-04-17T12:48:47.934471Z",
     "shell.execute_reply.started": "2022-04-17T12:48:47.900000Z"
    },
    "tags": []
   },
   "outputs": [
    {
     "name": "stdout",
     "output_type": "stream",
     "text": [
      "F_onewayResult(statistic=2.2075027580446642, pvalue=0.09073856015960305)\n",
      "F_onewayResult(statistic=1.2840739965036247, pvalue=0.2830283076578006)\n",
      "F_onewayResult(statistic=1.6974358666310665, pvalue=0.1712226311358903)\n"
     ]
    }
   ],
   "source": [
    "# First we run at a time window around 130 ms - the first peak of interest\n",
    "print(Anova_Epochs(Epoch_Condition = [word_real_epochs, word_foreign_epochs, word_cs_epochs, word_fs_epochs], \n",
    "             tmin = .115, \n",
    "             tmax = .135,\n",
    "             channels = ['P3', 'P7', 'O1', 'P8']))\n",
    "\n",
    "# Then we run at a time window around 190 ms - the second peak of interest\n",
    "print(Anova_Epochs(Epoch_Condition = [word_real_epochs, word_foreign_epochs, word_cs_epochs, word_fs_epochs], \n",
    "             tmin = .175, \n",
    "             tmax = .19,\n",
    "             channels = ['P3', 'P7', 'O1', 'P8']))\n",
    "\n",
    "# Then we run at a time window around 230 ms - the third peak of interest\n",
    "print(Anova_Epochs(Epoch_Condition = [word_real_epochs, word_foreign_epochs, word_cs_epochs, word_fs_epochs], \n",
    "             tmin = .225, \n",
    "             tmax = .240,\n",
    "             channels = ['P3', 'P7', 'O1', 'P8']))"
   ]
  },
  {
   "cell_type": "markdown",
   "id": "f4b814d0-fae2-4dfb-8232-fd995f1bd46e",
   "metadata": {},
   "source": [
    "### Create T-Test Function"
   ]
  },
  {
   "cell_type": "code",
   "execution_count": 101,
   "id": "7d4758a6-82b2-422a-b4a7-18f2c9f53dc0",
   "metadata": {
    "execution": {
     "iopub.execute_input": "2022-04-17T12:48:47.936876Z",
     "iopub.status.busy": "2022-04-17T12:48:47.936622Z",
     "iopub.status.idle": "2022-04-17T12:48:47.957380Z",
     "shell.execute_reply": "2022-04-17T12:48:47.956376Z",
     "shell.execute_reply.started": "2022-04-17T12:48:47.936850Z"
    },
    "tags": []
   },
   "outputs": [],
   "source": [
    "def Ttest_Epochs(Epoch_Condition, tmin, tmax, channels):\n",
    "    data = []\n",
    "    for i in range(2):\n",
    "        data.append(Epoch_Condition[i].get_data(picks=channels, tmin=tmin, tmax=tmax))\n",
    "    \n",
    "    means = []\n",
    "    for i in range(2):\n",
    "        mean_temp = np.mean(data[i], axis=2)\n",
    "        means.append(np.mean(mean_temp, axis=1))\n",
    "    \n",
    "    return st.ttest_ind(a=means[0], b=means[1])  "
   ]
  },
  {
   "cell_type": "code",
   "execution_count": 102,
   "id": "12591263-1717-4785-af04-3f5a214f696e",
   "metadata": {
    "execution": {
     "iopub.execute_input": "2022-04-17T12:48:47.958991Z",
     "iopub.status.busy": "2022-04-17T12:48:47.958733Z",
     "iopub.status.idle": "2022-04-17T12:48:47.986569Z",
     "shell.execute_reply": "2022-04-17T12:48:47.985546Z",
     "shell.execute_reply.started": "2022-04-17T12:48:47.958958Z"
    },
    "tags": []
   },
   "outputs": [
    {
     "data": {
      "text/plain": [
       "Ttest_indResult(statistic=-1.7456879113113013, pvalue=0.08598413519714884)"
      ]
     },
     "execution_count": 102,
     "metadata": {},
     "output_type": "execute_result"
    }
   ],
   "source": [
    "Ttest_Epochs(Epoch_Condition = [word_real_epochs, word_foreign_epochs], \n",
    "             tmin = .115, \n",
    "             tmax = .135,\n",
    "             channels = ['P3', 'P7', 'O1', 'P8'])\n"
   ]
  },
  {
   "cell_type": "markdown",
   "id": "897ea2a5-cac5-433e-b51f-f3a3a9d6b407",
   "metadata": {},
   "source": [
    "### Pairwise T-tests in The Significant Window"
   ]
  },
  {
   "cell_type": "code",
   "execution_count": 176,
   "id": "a59196ef-0280-4a71-b427-eeb2063d2aaa",
   "metadata": {
    "execution": {
     "iopub.execute_input": "2022-04-17T13:35:32.388387Z",
     "iopub.status.busy": "2022-04-17T13:35:32.387885Z",
     "iopub.status.idle": "2022-04-17T13:35:32.402640Z",
     "shell.execute_reply": "2022-04-17T13:35:32.401990Z",
     "shell.execute_reply.started": "2022-04-17T13:35:32.388332Z"
    },
    "tags": []
   },
   "outputs": [],
   "source": [
    "def pairwise_Ttest(Epoch_Condition, tmin, tmax, channels, Epoch_Names):\n",
    "    n_conditions = range(len(Epoch_Condition))\n",
    "    data = []\n",
    "    for i in n_conditions:\n",
    "        data.append(Epoch_Condition[i].get_data(picks=channels, tmin=tmin, tmax=tmax))\n",
    "    \n",
    "    means = []\n",
    "    for i in n_conditions:\n",
    "        mean_temp = np.mean(data[i], axis=2)\n",
    "        means.append(np.mean(mean_temp, axis=1))\n",
    "    \n",
    "    ## create empty lists\n",
    "    pairwise_names = []\n",
    "    pairwise_pval = []\n",
    "    pairwise_tstat = []\n",
    "    \n",
    "    ## make all the combinations\n",
    "    for a, b in combinations(Epoch_Names, 2): \n",
    "        y = f\"{a} vs. {b}\"\n",
    "        pairwise_names.append(y)\n",
    "        \n",
    "    for a, b in combinations(means, 2): # function which make all combinations of 2 means possible\n",
    "        y = st.ttest_ind(a, b)\n",
    "        pairwise_pval.append(y.pvalue)\n",
    "        pairwise_tstat.append(y.statistic)\n",
    "    \n",
    "    \n",
    "    bonferroni = multi(pairwise_pval, alpha=0.05, method='bonferroni', is_sorted=False, returnsorted=False)\n",
    "    \n",
    "    ## create dataframe\n",
    "    data = pd.DataFrame({\"Comparison\":pairwise_names, \"P-Value\":pairwise_pval, \"t-statistic\":pairwise_tstat, \"Bonferroni Adj.\":bonferroni[1]})\n",
    "    \n",
    "    return data\n",
    "    "
   ]
  },
  {
   "cell_type": "code",
   "execution_count": 179,
   "id": "cfa22120-ad8c-451c-a8b1-84d091ec5525",
   "metadata": {
    "execution": {
     "iopub.execute_input": "2022-04-17T13:36:11.490800Z",
     "iopub.status.busy": "2022-04-17T13:36:11.490126Z",
     "iopub.status.idle": "2022-04-17T13:36:11.509935Z",
     "shell.execute_reply": "2022-04-17T13:36:11.509331Z",
     "shell.execute_reply.started": "2022-04-17T13:36:11.490741Z"
    },
    "tags": []
   },
   "outputs": [
    {
     "data": {
      "text/html": [
       "<div>\n",
       "<style scoped>\n",
       "    .dataframe tbody tr th:only-of-type {\n",
       "        vertical-align: middle;\n",
       "    }\n",
       "\n",
       "    .dataframe tbody tr th {\n",
       "        vertical-align: top;\n",
       "    }\n",
       "\n",
       "    .dataframe thead th {\n",
       "        text-align: right;\n",
       "    }\n",
       "</style>\n",
       "<table border=\"1\" class=\"dataframe\">\n",
       "  <thead>\n",
       "    <tr style=\"text-align: right;\">\n",
       "      <th></th>\n",
       "      <th>Comparison</th>\n",
       "      <th>P-Value</th>\n",
       "      <th>t-statistic</th>\n",
       "      <th>Bonferroni Adj.</th>\n",
       "    </tr>\n",
       "  </thead>\n",
       "  <tbody>\n",
       "    <tr>\n",
       "      <th>0</th>\n",
       "      <td>Real vs. Foreign</td>\n",
       "      <td>0.009600</td>\n",
       "      <td>-2.675678</td>\n",
       "      <td>0.057597</td>\n",
       "    </tr>\n",
       "    <tr>\n",
       "      <th>1</th>\n",
       "      <td>Real vs. CS</td>\n",
       "      <td>0.238917</td>\n",
       "      <td>-1.189529</td>\n",
       "      <td>1.000000</td>\n",
       "    </tr>\n",
       "    <tr>\n",
       "      <th>2</th>\n",
       "      <td>Real vs. FS</td>\n",
       "      <td>0.001365</td>\n",
       "      <td>-3.358666</td>\n",
       "      <td>0.008191</td>\n",
       "    </tr>\n",
       "    <tr>\n",
       "      <th>3</th>\n",
       "      <td>Foreign vs. CS</td>\n",
       "      <td>0.191861</td>\n",
       "      <td>1.319963</td>\n",
       "      <td>1.000000</td>\n",
       "    </tr>\n",
       "    <tr>\n",
       "      <th>4</th>\n",
       "      <td>Foreign vs. FS</td>\n",
       "      <td>0.463686</td>\n",
       "      <td>-0.737511</td>\n",
       "      <td>1.000000</td>\n",
       "    </tr>\n",
       "    <tr>\n",
       "      <th>5</th>\n",
       "      <td>CS vs. FS</td>\n",
       "      <td>0.050649</td>\n",
       "      <td>-1.994482</td>\n",
       "      <td>0.303892</td>\n",
       "    </tr>\n",
       "  </tbody>\n",
       "</table>\n",
       "</div>"
      ],
      "text/plain": [
       "         Comparison   P-Value  t-statistic  Bonferroni Adj.\n",
       "0  Real vs. Foreign  0.009600    -2.675678         0.057597\n",
       "1       Real vs. CS  0.238917    -1.189529         1.000000\n",
       "2       Real vs. FS  0.001365    -3.358666         0.008191\n",
       "3    Foreign vs. CS  0.191861     1.319963         1.000000\n",
       "4    Foreign vs. FS  0.463686    -0.737511         1.000000\n",
       "5         CS vs. FS  0.050649    -1.994482         0.303892"
      ]
     },
     "execution_count": 179,
     "metadata": {},
     "output_type": "execute_result"
    }
   ],
   "source": [
    "pairwise = pairwise_Ttest(Epoch_Condition = [word_real_epochs, word_foreign_epochs, word_cs_epochs, word_fs_epochs], \n",
    "             tmin = .248, \n",
    "             tmax = .632,\n",
    "             channels = ['P3', 'P7', 'O1', 'P8'],\n",
    "             Epoch_Names = [\"Real\", \"Foreign\", \"CS\", \"FS\"]\n",
    "              )\n",
    "\n",
    "pairwise"
   ]
  }
 ],
 "metadata": {
  "kernelspec": {
   "display_name": "Python 3 ",
   "language": "python",
   "name": "python3"
  },
  "language_info": {
   "codemirror_mode": {
    "name": "ipython",
    "version": 3
   },
   "file_extension": ".py",
   "mimetype": "text/x-python",
   "name": "python",
   "nbconvert_exporter": "python",
   "pygments_lexer": "ipython3",
   "version": "3.9.10"
  }
 },
 "nbformat": 4,
 "nbformat_minor": 5
}
